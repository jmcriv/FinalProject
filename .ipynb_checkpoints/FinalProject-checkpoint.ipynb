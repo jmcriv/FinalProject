{
 "cells": [
  {
   "cell_type": "markdown",
   "metadata": {},
   "source": [
    "# Web Mining and Applied NLP (44-620)\n",
    "\n",
    "## Final Project\n",
    "\n",
    "### Student Name: Jim Crivello  https://github.com/jmcriv/FinalProject\n",
    "\n",
    "Hello!\n",
    "\n",
    "Aside from my full-time work as an auditor, I am a part-time teacher and a part-time writer. Plagiarism is a big concern in both the teaching and writing domains. I use online tools such as Turnitin to compare my work or a student’s work to multiple online sources. My goal with this project is to write a program that compares documents for potential plagiarism issues.\n",
    "\n",
    "When I use Turnitin to check for similarities, the program compares one paper to the multiple documents searched on the internet. The problem is that since other student work is turned in at the same time, Turnitin will usually not have the other students work in the database for comparison. The target of my project will be a comparison of multiple student papers to not only the internet, but also each other to see similarities.\n",
    "\n",
    "I will be usuing an extension of our API calls for music lyrics to serve as the student papers. I will be downloading the lyrics and then creating multiple variations of the text files to simulate student papers.\n",
    "\n",
    "#### ---------------------------------------------\n",
    "\n",
    "Perform the tasks described in the Markdown cells below.  When you have completed the assignment make sure your code cells have all been run (and have output beneath them) and ensure you have committed and pushed ALL of your changes to your assignment repository.\n",
    "\n",
    "Every question that requires you to write code will have a code cell underneath it; you may either write your entire solution in that cell or write it in a python file (`.py`), then import and run the appropriate code to answer the question.\n",
    "\n"
   ]
  },
  {
   "cell_type": "code",
   "execution_count": null,
   "metadata": {},
   "outputs": [],
   "source": [
    "\n"
   ]
  },
  {
   "cell_type": "code",
   "execution_count": null,
   "metadata": {},
   "outputs": [],
   "source": []
  }
 ],
 "metadata": {
  "kernelspec": {
   "display_name": "Python 3 (ipykernel)",
   "language": "python",
   "name": "python3"
  },
  "language_info": {
   "codemirror_mode": {
    "name": "ipython",
    "version": 3
   },
   "file_extension": ".py",
   "mimetype": "text/x-python",
   "name": "python",
   "nbconvert_exporter": "python",
   "pygments_lexer": "ipython3",
   "version": "3.9.16"
  }
 },
 "nbformat": 4,
 "nbformat_minor": 4
}
