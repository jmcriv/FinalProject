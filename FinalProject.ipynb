{
 "cells": [
  {
   "cell_type": "markdown",
   "metadata": {},
   "source": [
    "# Web Mining and Applied NLP (44-620)\n",
    "\n",
    "## Final Project\n",
    "\n",
    "### Student Name: Jim Crivello  https://github.com/jmcriv/FinalProject\n",
    "\n",
    "Hello!\n",
    "\n",
    "Aside from my full-time work as an auditor, I am a part-time teacher and a part-time writer. Plagiarism is a big concern in both the teaching and writing domains. I use online tools such as Turnitin to compare my work or a student’s work to multiple online sources. My goal with this project is to write a program that compares documents for potential plagiarism issues.\n",
    "\n",
    "When I use Turnitin to check for similarities, the program compares one paper to the multiple documents searched on the internet. The problem is that since other student work is turned in at the same time, Turnitin will usually not have the other students work in the database for comparison. The target of my project will be a comparison of multiple student papers to not only the internet, but also each other to see similarities.\n",
    "\n",
    "I will be using an extension of our API calls for music lyrics to serve as the student papers. I will be downloading the lyrics and then creating multiple variations of the JSONs copied to text files to simulate student papers.\n",
    "\n",
    "#### ---------------------------------------------\n",
    "\n",
    "Perform the tasks described in the Markdown cells below.  When you have completed the assignment make sure your code cells have all been run (and have output beneath them) and ensure you have committed and pushed ALL of your changes to your assignment repository.\n",
    "\n",
    "Every question that requires you to write code will have a code cell underneath it; you may either write your entire solution in that cell or write it in a python file (`.py`), then import and run the appropriate code to answer the question.\n",
    "\n"
   ]
  },
  {
   "cell_type": "markdown",
   "metadata": {},
   "source": [
    "### Coding below is from the Module Four JSON assignment"
   ]
  },
  {
   "cell_type": "code",
   "execution_count": 15,
   "metadata": {},
   "outputs": [
    {
     "name": "stdout",
     "output_type": "stream",
     "text": [
      "Searching for \"Pretzel Logic\" by Steely Dan...\n",
      "Done.\n",
      "Lyrics for 'Pretzel Logic' by Steely Dan have been saved to pretzel_logic.json\n",
      "Searching for \"Stairway to Heaven\" by Led Zepplin...\n",
      "Done.\n",
      "Lyrics for 'Stairway to Heaven' by Led Zeppelin have been saved to stairway_heaven.json\n",
      "Searching for \"One of these Nights\" by Eagles...\n",
      "Done.\n",
      "Lyrics for 'One of These Nights' by Eagles have been saved to these_nights.json\n",
      "Searching for \"Money\" by Pink Floyd...\n",
      "Done.\n",
      "Lyrics for 'Money' by Pink Floyd have been saved to money.json\n"
     ]
    }
   ],
   "source": [
    "import lyricsgenius\n",
    "import json\n",
    "import os\n",
    "from dotenv import load_dotenv\n",
    "\n",
    "load_dotenv()\n",
    "\n",
    "def get_genius_access_token():\n",
    "    return os.getenv(\"GENIUS_ACCESS_TOKEN\")\n",
    "\n",
    "def get_song_lyrics(artist, song, filename):\n",
    "    access_token = get_genius_access_token()\n",
    "#    genius = lyricsgenius.Genius(access_token)\n",
    "    genius = lyricsgenius.Genius('xxxxxxxxxxxxxxxxxxxxxxxxx')\n",
    "    try:\n",
    "        song = genius.search_song(song, artist)\n",
    "        if song:\n",
    "            lyrics = song.lyrics\n",
    "            with open(filename, 'w') as file:\n",
    "                json.dump(lyrics, file)\n",
    "            print(f\"Lyrics for '{song.title}' by {song.artist} have been saved to {filename}\")\n",
    "        else:\n",
    "            print(f\"Failed to retrieve lyrics for '{song}' by {artist}\")\n",
    "    except Exception as e:\n",
    "        print(f\"An error occurred: {str(e)}\")\n",
    "\n",
    "get_song_lyrics(\"Steely Dan\", \"Pretzel Logic\", \"pretzel_logic.json\")\n",
    "get_song_lyrics(\"Led Zepplin\", \"Stairway to Heaven\", \"stairway_heaven.json\")\n",
    "get_song_lyrics(\"Eagles\", \"One of these Nights\", \"these_nights.json\")\n",
    "get_song_lyrics(\"Pink Floyd\", \"Money\", \"money.json\")\n"
   ]
  },
  {
   "cell_type": "markdown",
   "metadata": {},
   "source": [
    "### I struggled with converting the JSON objects to text files. I will continue my practice. I manually created the text files referenced in the next section."
   ]
  },
  {
   "cell_type": "markdown",
   "metadata": {},
   "source": [
    "### Following code was referenced from https://hackernoon.com/how-to-detect-plagiarism-in-text-using-python-zn213tw7\n",
    "\n",
    "The result of this code will compare each of the five text files to the other four text files for plagiarism with a resulting percentage score for originality.\n",
    "\n",
    "I copied portions of each of the four music lyrics text files to paper.txt to simulate a student copying data from all four documents.\n"
   ]
  },
  {
   "cell_type": "code",
   "execution_count": 16,
   "metadata": {},
   "outputs": [
    {
     "name": "stdout",
     "output_type": "stream",
     "text": [
      "('pretzel_logic.txt', 'stairway_heaven.txt', 0.3177821102128199)\n",
      "('money.txt', 'pretzel_logic.txt', 0.21068201156000455)\n",
      "('paper.txt', 'pretzel_logic.txt', 0.5661774583635705)\n",
      "('money.txt', 'these_nights.txt', 0.15761119701841553)\n",
      "('money.txt', 'stairway_heaven.txt', 0.2613440903770172)\n",
      "('paper.txt', 'stairway_heaven.txt', 0.5692006433462361)\n",
      "('pretzel_logic.txt', 'these_nights.txt', 0.13873148368337798)\n",
      "('paper.txt', 'these_nights.txt', 0.4398902693353228)\n",
      "('stairway_heaven.txt', 'these_nights.txt', 0.2322781837981371)\n",
      "('money.txt', 'paper.txt', 0.4895340966051793)\n"
     ]
    }
   ],
   "source": [
    "import os\n",
    "from sklearn.feature_extraction.text import TfidfVectorizer\n",
    "from sklearn.metrics.pairwise import cosine_similarity\n",
    "\n",
    "student_files = [doc for doc in os.listdir() if doc.endswith('.txt')]\n",
    "student_notes =[open(File).read() for File in  student_files]\n",
    "\n",
    "vectorize = lambda Text: TfidfVectorizer().fit_transform(Text).toarray()\n",
    "similarity = lambda doc1, doc2: cosine_similarity([doc1, doc2])\n",
    "\n",
    "vectors = vectorize(student_notes)\n",
    "s_vectors = list(zip(student_files, vectors))\n",
    "\n",
    "def check_plagiarism():\n",
    "    plagiarism_results = set()\n",
    "    global s_vectors\n",
    "    for student_a, text_vector_a in s_vectors:\n",
    "        new_vectors =s_vectors.copy()\n",
    "        current_index = new_vectors.index((student_a, text_vector_a))\n",
    "        del new_vectors[current_index]\n",
    "        for student_b , text_vector_b in new_vectors:\n",
    "            sim_score = similarity(text_vector_a, text_vector_b)[0][1]\n",
    "            student_pair = sorted((student_a, student_b))\n",
    "            score = (student_pair[0], student_pair[1],sim_score)\n",
    "            plagiarism_results.add(score)\n",
    "    return plagiarism_results\n",
    "\n",
    "for data in check_plagiarism():\n",
    "        print(data)"
   ]
  }
 ],
 "metadata": {
  "kernelspec": {
   "display_name": "Python 3 (ipykernel)",
   "language": "python",
   "name": "python3"
  },
  "language_info": {
   "codemirror_mode": {
    "name": "ipython",
    "version": 3
   },
   "file_extension": ".py",
   "mimetype": "text/x-python",
   "name": "python",
   "nbconvert_exporter": "python",
   "pygments_lexer": "ipython3",
   "version": "3.9.16"
  }
 },
 "nbformat": 4,
 "nbformat_minor": 4
}
